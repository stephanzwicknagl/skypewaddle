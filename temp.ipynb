{
 "cells": [
  {
   "cell_type": "code",
   "execution_count": 1,
   "metadata": {},
   "outputs": [
    {
     "name": "stdout",
     "output_type": "stream",
     "text": [
      "<class 'pandas.core.frame.DataFrame'>\n",
      "RangeIndex: 2630 entries, 0 to 2629\n",
      "Data columns (total 2 columns):\n",
      " #   Column      Non-Null Count  Dtype  \n",
      "---  ------      --------------  -----  \n",
      " 0   Duration    2436 non-null   float64\n",
      " 1   Start Time  2620 non-null   object \n",
      "dtypes: float64(1), object(1)\n",
      "memory usage: 41.2+ KB\n"
     ]
    }
   ],
   "source": [
    "import pandas as pd\n",
    "import numpy as np\n",
    "import matplotlib.pyplot as plt\n",
    "import datetime as dt\n",
    "import plotly.express as px\n",
    "import plotly.graph_objects as go\n",
    "\n",
    "df = pd.read_csv('data/dataframe.csv', usecols = ['Start Time', 'Duration'], parse_dates=['Start Time'])\n",
    "\n",
    "df.info()"
   ]
  },
  {
   "cell_type": "code",
   "execution_count": 2,
   "metadata": {},
   "outputs": [],
   "source": [
    "df.sort_values(by='Start Time', inplace=True)\n",
    "df.dropna(inplace=True)\n",
    "# df.set_index('Start Time', inplace=True)"
   ]
  },
  {
   "cell_type": "code",
   "execution_count": 3,
   "metadata": {},
   "outputs": [
    {
     "name": "stdout",
     "output_type": "stream",
     "text": [
      "Days 135.0\n",
      "Hours 5.0\n",
      "Minutes 1.0\n",
      "Seconds 45.71999999880791\n"
     ]
    }
   ],
   "source": [
    "time = df['Duration'].sum()\n",
    "day = time // (24 * 3600)\n",
    "time = time % (24 * 3600)\n",
    "hour = time // 3600\n",
    "time %= 3600\n",
    "minutes = time // 60\n",
    "time %= 60\n",
    "seconds = time\n",
    "\n",
    "#print day, hour, minutes and seconds\n",
    "print('Days', day)\n",
    "print('Hours', hour)\n",
    "print('Minutes', minutes)\n",
    "print('Seconds', seconds)"
   ]
  },
  {
   "cell_type": "code",
   "execution_count": 18,
   "metadata": {},
   "outputs": [
    {
     "ename": "ValueError",
     "evalue": "Tz-aware datetime.datetime cannot be converted to datetime64 unless utc=True",
     "output_type": "error",
     "traceback": [
      "\u001b[1;31m---------------------------------------------------------------------------\u001b[0m",
      "\u001b[1;31mValueError\u001b[0m                                Traceback (most recent call last)",
      "File \u001b[1;32mc:\\Users\\steph\\anaconda3\\envs\\skypew\\lib\\site-packages\\pandas\\core\\arrays\\datetimes.py:2187\u001b[0m, in \u001b[0;36mobjects_to_datetime64ns\u001b[1;34m(data, dayfirst, yearfirst, utc, errors, require_iso8601, allow_object, allow_mixed)\u001b[0m\n\u001b[0;32m   <a href='file:///c%3A/Users/steph/anaconda3/envs/skypew/lib/site-packages/pandas/core/arrays/datetimes.py?line=2185'>2186</a>\u001b[0m \u001b[39mtry\u001b[39;00m:\n\u001b[1;32m-> <a href='file:///c%3A/Users/steph/anaconda3/envs/skypew/lib/site-packages/pandas/core/arrays/datetimes.py?line=2186'>2187</a>\u001b[0m     values, tz_parsed \u001b[39m=\u001b[39m conversion\u001b[39m.\u001b[39;49mdatetime_to_datetime64(data\u001b[39m.\u001b[39;49mravel(\u001b[39m\"\u001b[39;49m\u001b[39mK\u001b[39;49m\u001b[39m\"\u001b[39;49m))\n\u001b[0;32m   <a href='file:///c%3A/Users/steph/anaconda3/envs/skypew/lib/site-packages/pandas/core/arrays/datetimes.py?line=2187'>2188</a>\u001b[0m     \u001b[39m# If tzaware, these values represent unix timestamps, so we\u001b[39;00m\n\u001b[0;32m   <a href='file:///c%3A/Users/steph/anaconda3/envs/skypew/lib/site-packages/pandas/core/arrays/datetimes.py?line=2188'>2189</a>\u001b[0m     \u001b[39m#  return them as i8 to distinguish from wall times\u001b[39;00m\n",
      "File \u001b[1;32mc:\\Users\\steph\\anaconda3\\envs\\skypew\\lib\\site-packages\\pandas\\_libs\\tslibs\\conversion.pyx:344\u001b[0m, in \u001b[0;36mpandas._libs.tslibs.conversion.datetime_to_datetime64\u001b[1;34m()\u001b[0m\n",
      "\u001b[1;31mValueError\u001b[0m: Array must be all same time zone",
      "\nDuring handling of the above exception, another exception occurred:\n",
      "\u001b[1;31mValueError\u001b[0m                                Traceback (most recent call last)",
      "\u001b[1;32mc:\\Users\\steph\\Documents\\Programmieren\\Python\\SkypeWaddle\\temp.ipynb Cell 4'\u001b[0m in \u001b[0;36m<cell line: 1>\u001b[1;34m()\u001b[0m\n\u001b[1;32m----> <a href='vscode-notebook-cell:/c%3A/Users/steph/Documents/Programmieren/Python/SkypeWaddle/temp.ipynb#ch0000009?line=0'>1</a>\u001b[0m pd\u001b[39m.\u001b[39;49mto_datetime(df[\u001b[39m'\u001b[39;49m\u001b[39mStart Time\u001b[39;49m\u001b[39m'\u001b[39;49m])\u001b[39m.\u001b[39mdt\u001b[39m.\u001b[39mto_period()\n",
      "File \u001b[1;32mc:\\Users\\steph\\anaconda3\\envs\\skypew\\lib\\site-packages\\pandas\\core\\tools\\datetimes.py:887\u001b[0m, in \u001b[0;36mto_datetime\u001b[1;34m(arg, errors, dayfirst, yearfirst, utc, format, exact, unit, infer_datetime_format, origin, cache)\u001b[0m\n\u001b[0;32m    <a href='file:///c%3A/Users/steph/anaconda3/envs/skypew/lib/site-packages/pandas/core/tools/datetimes.py?line=884'>885</a>\u001b[0m         result \u001b[39m=\u001b[39m arg\u001b[39m.\u001b[39mmap(cache_array)\n\u001b[0;32m    <a href='file:///c%3A/Users/steph/anaconda3/envs/skypew/lib/site-packages/pandas/core/tools/datetimes.py?line=885'>886</a>\u001b[0m     \u001b[39melse\u001b[39;00m:\n\u001b[1;32m--> <a href='file:///c%3A/Users/steph/anaconda3/envs/skypew/lib/site-packages/pandas/core/tools/datetimes.py?line=886'>887</a>\u001b[0m         values \u001b[39m=\u001b[39m convert_listlike(arg\u001b[39m.\u001b[39;49m_values, \u001b[39mformat\u001b[39;49m)\n\u001b[0;32m    <a href='file:///c%3A/Users/steph/anaconda3/envs/skypew/lib/site-packages/pandas/core/tools/datetimes.py?line=887'>888</a>\u001b[0m         result \u001b[39m=\u001b[39m arg\u001b[39m.\u001b[39m_constructor(values, index\u001b[39m=\u001b[39marg\u001b[39m.\u001b[39mindex, name\u001b[39m=\u001b[39marg\u001b[39m.\u001b[39mname)\n\u001b[0;32m    <a href='file:///c%3A/Users/steph/anaconda3/envs/skypew/lib/site-packages/pandas/core/tools/datetimes.py?line=888'>889</a>\u001b[0m \u001b[39melif\u001b[39;00m \u001b[39misinstance\u001b[39m(arg, (ABCDataFrame, abc\u001b[39m.\u001b[39mMutableMapping)):\n",
      "File \u001b[1;32mc:\\Users\\steph\\anaconda3\\envs\\skypew\\lib\\site-packages\\pandas\\core\\tools\\datetimes.py:401\u001b[0m, in \u001b[0;36m_convert_listlike_datetimes\u001b[1;34m(arg, format, name, tz, unit, errors, infer_datetime_format, dayfirst, yearfirst, exact)\u001b[0m\n\u001b[0;32m    <a href='file:///c%3A/Users/steph/anaconda3/envs/skypew/lib/site-packages/pandas/core/tools/datetimes.py?line=398'>399</a>\u001b[0m \u001b[39massert\u001b[39;00m \u001b[39mformat\u001b[39m \u001b[39mis\u001b[39;00m \u001b[39mNone\u001b[39;00m \u001b[39mor\u001b[39;00m infer_datetime_format\n\u001b[0;32m    <a href='file:///c%3A/Users/steph/anaconda3/envs/skypew/lib/site-packages/pandas/core/tools/datetimes.py?line=399'>400</a>\u001b[0m utc \u001b[39m=\u001b[39m tz \u001b[39m==\u001b[39m \u001b[39m\"\u001b[39m\u001b[39mutc\u001b[39m\u001b[39m\"\u001b[39m\n\u001b[1;32m--> <a href='file:///c%3A/Users/steph/anaconda3/envs/skypew/lib/site-packages/pandas/core/tools/datetimes.py?line=400'>401</a>\u001b[0m result, tz_parsed \u001b[39m=\u001b[39m objects_to_datetime64ns(\n\u001b[0;32m    <a href='file:///c%3A/Users/steph/anaconda3/envs/skypew/lib/site-packages/pandas/core/tools/datetimes.py?line=401'>402</a>\u001b[0m     arg,\n\u001b[0;32m    <a href='file:///c%3A/Users/steph/anaconda3/envs/skypew/lib/site-packages/pandas/core/tools/datetimes.py?line=402'>403</a>\u001b[0m     dayfirst\u001b[39m=\u001b[39;49mdayfirst,\n\u001b[0;32m    <a href='file:///c%3A/Users/steph/anaconda3/envs/skypew/lib/site-packages/pandas/core/tools/datetimes.py?line=403'>404</a>\u001b[0m     yearfirst\u001b[39m=\u001b[39;49myearfirst,\n\u001b[0;32m    <a href='file:///c%3A/Users/steph/anaconda3/envs/skypew/lib/site-packages/pandas/core/tools/datetimes.py?line=404'>405</a>\u001b[0m     utc\u001b[39m=\u001b[39;49mutc,\n\u001b[0;32m    <a href='file:///c%3A/Users/steph/anaconda3/envs/skypew/lib/site-packages/pandas/core/tools/datetimes.py?line=405'>406</a>\u001b[0m     errors\u001b[39m=\u001b[39;49merrors,\n\u001b[0;32m    <a href='file:///c%3A/Users/steph/anaconda3/envs/skypew/lib/site-packages/pandas/core/tools/datetimes.py?line=406'>407</a>\u001b[0m     require_iso8601\u001b[39m=\u001b[39;49mrequire_iso8601,\n\u001b[0;32m    <a href='file:///c%3A/Users/steph/anaconda3/envs/skypew/lib/site-packages/pandas/core/tools/datetimes.py?line=407'>408</a>\u001b[0m     allow_object\u001b[39m=\u001b[39;49m\u001b[39mTrue\u001b[39;49;00m,\n\u001b[0;32m    <a href='file:///c%3A/Users/steph/anaconda3/envs/skypew/lib/site-packages/pandas/core/tools/datetimes.py?line=408'>409</a>\u001b[0m )\n\u001b[0;32m    <a href='file:///c%3A/Users/steph/anaconda3/envs/skypew/lib/site-packages/pandas/core/tools/datetimes.py?line=410'>411</a>\u001b[0m \u001b[39mif\u001b[39;00m tz_parsed \u001b[39mis\u001b[39;00m \u001b[39mnot\u001b[39;00m \u001b[39mNone\u001b[39;00m:\n\u001b[0;32m    <a href='file:///c%3A/Users/steph/anaconda3/envs/skypew/lib/site-packages/pandas/core/tools/datetimes.py?line=411'>412</a>\u001b[0m     \u001b[39m# We can take a shortcut since the datetime64 numpy array\u001b[39;00m\n\u001b[0;32m    <a href='file:///c%3A/Users/steph/anaconda3/envs/skypew/lib/site-packages/pandas/core/tools/datetimes.py?line=412'>413</a>\u001b[0m     \u001b[39m# is in UTC\u001b[39;00m\n\u001b[0;32m    <a href='file:///c%3A/Users/steph/anaconda3/envs/skypew/lib/site-packages/pandas/core/tools/datetimes.py?line=413'>414</a>\u001b[0m     dta \u001b[39m=\u001b[39m DatetimeArray(result, dtype\u001b[39m=\u001b[39mtz_to_dtype(tz_parsed))\n",
      "File \u001b[1;32mc:\\Users\\steph\\anaconda3\\envs\\skypew\\lib\\site-packages\\pandas\\core\\arrays\\datetimes.py:2193\u001b[0m, in \u001b[0;36mobjects_to_datetime64ns\u001b[1;34m(data, dayfirst, yearfirst, utc, errors, require_iso8601, allow_object, allow_mixed)\u001b[0m\n\u001b[0;32m   <a href='file:///c%3A/Users/steph/anaconda3/envs/skypew/lib/site-packages/pandas/core/arrays/datetimes.py?line=2190'>2191</a>\u001b[0m         \u001b[39mreturn\u001b[39;00m values\u001b[39m.\u001b[39mview(\u001b[39m\"\u001b[39m\u001b[39mi8\u001b[39m\u001b[39m\"\u001b[39m), tz_parsed\n\u001b[0;32m   <a href='file:///c%3A/Users/steph/anaconda3/envs/skypew/lib/site-packages/pandas/core/arrays/datetimes.py?line=2191'>2192</a>\u001b[0m     \u001b[39mexcept\u001b[39;00m (\u001b[39mValueError\u001b[39;00m, \u001b[39mTypeError\u001b[39;00m):\n\u001b[1;32m-> <a href='file:///c%3A/Users/steph/anaconda3/envs/skypew/lib/site-packages/pandas/core/arrays/datetimes.py?line=2192'>2193</a>\u001b[0m         \u001b[39mraise\u001b[39;00m err\n\u001b[0;32m   <a href='file:///c%3A/Users/steph/anaconda3/envs/skypew/lib/site-packages/pandas/core/arrays/datetimes.py?line=2194'>2195</a>\u001b[0m \u001b[39mif\u001b[39;00m tz_parsed \u001b[39mis\u001b[39;00m \u001b[39mnot\u001b[39;00m \u001b[39mNone\u001b[39;00m:\n\u001b[0;32m   <a href='file:///c%3A/Users/steph/anaconda3/envs/skypew/lib/site-packages/pandas/core/arrays/datetimes.py?line=2195'>2196</a>\u001b[0m     \u001b[39m# We can take a shortcut since the datetime64 numpy array\u001b[39;00m\n\u001b[0;32m   <a href='file:///c%3A/Users/steph/anaconda3/envs/skypew/lib/site-packages/pandas/core/arrays/datetimes.py?line=2196'>2197</a>\u001b[0m     \u001b[39m#  is in UTC\u001b[39;00m\n\u001b[0;32m   <a href='file:///c%3A/Users/steph/anaconda3/envs/skypew/lib/site-packages/pandas/core/arrays/datetimes.py?line=2197'>2198</a>\u001b[0m     \u001b[39m# Return i8 values to denote unix timestamps\u001b[39;00m\n\u001b[0;32m   <a href='file:///c%3A/Users/steph/anaconda3/envs/skypew/lib/site-packages/pandas/core/arrays/datetimes.py?line=2198'>2199</a>\u001b[0m     \u001b[39mreturn\u001b[39;00m result\u001b[39m.\u001b[39mview(\u001b[39m\"\u001b[39m\u001b[39mi8\u001b[39m\u001b[39m\"\u001b[39m), tz_parsed\n",
      "File \u001b[1;32mc:\\Users\\steph\\anaconda3\\envs\\skypew\\lib\\site-packages\\pandas\\core\\arrays\\datetimes.py:2175\u001b[0m, in \u001b[0;36mobjects_to_datetime64ns\u001b[1;34m(data, dayfirst, yearfirst, utc, errors, require_iso8601, allow_object, allow_mixed)\u001b[0m\n\u001b[0;32m   <a href='file:///c%3A/Users/steph/anaconda3/envs/skypew/lib/site-packages/pandas/core/arrays/datetimes.py?line=2172'>2173</a>\u001b[0m order: Literal[\u001b[39m\"\u001b[39m\u001b[39mF\u001b[39m\u001b[39m\"\u001b[39m, \u001b[39m\"\u001b[39m\u001b[39mC\u001b[39m\u001b[39m\"\u001b[39m] \u001b[39m=\u001b[39m \u001b[39m\"\u001b[39m\u001b[39mF\u001b[39m\u001b[39m\"\u001b[39m \u001b[39mif\u001b[39;00m flags\u001b[39m.\u001b[39mf_contiguous \u001b[39melse\u001b[39;00m \u001b[39m\"\u001b[39m\u001b[39mC\u001b[39m\u001b[39m\"\u001b[39m\n\u001b[0;32m   <a href='file:///c%3A/Users/steph/anaconda3/envs/skypew/lib/site-packages/pandas/core/arrays/datetimes.py?line=2173'>2174</a>\u001b[0m \u001b[39mtry\u001b[39;00m:\n\u001b[1;32m-> <a href='file:///c%3A/Users/steph/anaconda3/envs/skypew/lib/site-packages/pandas/core/arrays/datetimes.py?line=2174'>2175</a>\u001b[0m     result, tz_parsed \u001b[39m=\u001b[39m tslib\u001b[39m.\u001b[39;49marray_to_datetime(\n\u001b[0;32m   <a href='file:///c%3A/Users/steph/anaconda3/envs/skypew/lib/site-packages/pandas/core/arrays/datetimes.py?line=2175'>2176</a>\u001b[0m         data\u001b[39m.\u001b[39;49mravel(\u001b[39m\"\u001b[39;49m\u001b[39mK\u001b[39;49m\u001b[39m\"\u001b[39;49m),\n\u001b[0;32m   <a href='file:///c%3A/Users/steph/anaconda3/envs/skypew/lib/site-packages/pandas/core/arrays/datetimes.py?line=2176'>2177</a>\u001b[0m         errors\u001b[39m=\u001b[39;49merrors,\n\u001b[0;32m   <a href='file:///c%3A/Users/steph/anaconda3/envs/skypew/lib/site-packages/pandas/core/arrays/datetimes.py?line=2177'>2178</a>\u001b[0m         utc\u001b[39m=\u001b[39;49mutc,\n\u001b[0;32m   <a href='file:///c%3A/Users/steph/anaconda3/envs/skypew/lib/site-packages/pandas/core/arrays/datetimes.py?line=2178'>2179</a>\u001b[0m         dayfirst\u001b[39m=\u001b[39;49mdayfirst,\n\u001b[0;32m   <a href='file:///c%3A/Users/steph/anaconda3/envs/skypew/lib/site-packages/pandas/core/arrays/datetimes.py?line=2179'>2180</a>\u001b[0m         yearfirst\u001b[39m=\u001b[39;49myearfirst,\n\u001b[0;32m   <a href='file:///c%3A/Users/steph/anaconda3/envs/skypew/lib/site-packages/pandas/core/arrays/datetimes.py?line=2180'>2181</a>\u001b[0m         require_iso8601\u001b[39m=\u001b[39;49mrequire_iso8601,\n\u001b[0;32m   <a href='file:///c%3A/Users/steph/anaconda3/envs/skypew/lib/site-packages/pandas/core/arrays/datetimes.py?line=2181'>2182</a>\u001b[0m         allow_mixed\u001b[39m=\u001b[39;49mallow_mixed,\n\u001b[0;32m   <a href='file:///c%3A/Users/steph/anaconda3/envs/skypew/lib/site-packages/pandas/core/arrays/datetimes.py?line=2182'>2183</a>\u001b[0m     )\n\u001b[0;32m   <a href='file:///c%3A/Users/steph/anaconda3/envs/skypew/lib/site-packages/pandas/core/arrays/datetimes.py?line=2183'>2184</a>\u001b[0m     result \u001b[39m=\u001b[39m result\u001b[39m.\u001b[39mreshape(data\u001b[39m.\u001b[39mshape, order\u001b[39m=\u001b[39morder)\n\u001b[0;32m   <a href='file:///c%3A/Users/steph/anaconda3/envs/skypew/lib/site-packages/pandas/core/arrays/datetimes.py?line=2184'>2185</a>\u001b[0m \u001b[39mexcept\u001b[39;00m \u001b[39mValueError\u001b[39;00m \u001b[39mas\u001b[39;00m err:\n",
      "File \u001b[1;32mc:\\Users\\steph\\anaconda3\\envs\\skypew\\lib\\site-packages\\pandas\\_libs\\tslib.pyx:379\u001b[0m, in \u001b[0;36mpandas._libs.tslib.array_to_datetime\u001b[1;34m()\u001b[0m\n",
      "File \u001b[1;32mc:\\Users\\steph\\anaconda3\\envs\\skypew\\lib\\site-packages\\pandas\\_libs\\tslib.pyx:467\u001b[0m, in \u001b[0;36mpandas._libs.tslib.array_to_datetime\u001b[1;34m()\u001b[0m\n",
      "\u001b[1;31mValueError\u001b[0m: Tz-aware datetime.datetime cannot be converted to datetime64 unless utc=True"
     ]
    }
   ],
   "source": [
    "pd.to_datetime(df['Start Time']).dt.to_period()"
   ]
  },
  {
   "cell_type": "code",
   "execution_count": null,
   "metadata": {},
   "outputs": [
    {
     "ename": "AttributeError",
     "evalue": "'Int64Index' object has no attribute 'to_period'",
     "output_type": "error",
     "traceback": [
      "\u001b[1;31m---------------------------------------------------------------------------\u001b[0m",
      "\u001b[1;31mAttributeError\u001b[0m                            Traceback (most recent call last)",
      "\u001b[1;32mc:\\Users\\steph\\Documents\\Programmieren\\Python\\SkypeWaddle\\temp.ipynb Cell 5'\u001b[0m in \u001b[0;36m<cell line: 3>\u001b[1;34m()\u001b[0m\n\u001b[0;32m      <a href='vscode-notebook-cell:/c%3A/Users/steph/Documents/Programmieren/Python/SkypeWaddle/temp.ipynb#ch0000008?line=0'>1</a>\u001b[0m \u001b[39m# s = df.resample('M', on='Start Time')['duration'].sum()\u001b[39;00m\n\u001b[0;32m      <a href='vscode-notebook-cell:/c%3A/Users/steph/Documents/Programmieren/Python/SkypeWaddle/temp.ipynb#ch0000008?line=1'>2</a>\u001b[0m \u001b[39m# s\u001b[39;00m\n\u001b[0;32m      <a href='vscode-notebook-cell:/c%3A/Users/steph/Documents/Programmieren/Python/SkypeWaddle/temp.ipynb#ch0000008?line=2'>3</a>\u001b[0m df[\u001b[39m'\u001b[39m\u001b[39mDuration\u001b[39m\u001b[39m'\u001b[39m]\u001b[39m.\u001b[39mgroupby(\n\u001b[1;32m----> <a href='vscode-notebook-cell:/c%3A/Users/steph/Documents/Programmieren/Python/SkypeWaddle/temp.ipynb#ch0000008?line=3'>4</a>\u001b[0m     df\u001b[39m.\u001b[39;49mindex\u001b[39m.\u001b[39;49mto_period(\u001b[39m'\u001b[39m\u001b[39mM\u001b[39m\u001b[39m'\u001b[39m))\u001b[39m.\u001b[39msum()\u001b[39m.\u001b[39mplot(kind\u001b[39m=\u001b[39m\u001b[39m'\u001b[39m\u001b[39mbar\u001b[39m\u001b[39m'\u001b[39m)\n",
      "\u001b[1;31mAttributeError\u001b[0m: 'Int64Index' object has no attribute 'to_period'"
     ]
    }
   ],
   "source": [
    "# s = df.resample('M', on='Start Time')['duration'].sum()\n",
    "# s\n",
    "df['Duration'].groupby(\n",
    "    df.index.to_period('M')).sum().plot(kind='bar')\n"
   ]
  },
  {
   "cell_type": "code",
   "execution_count": null,
   "metadata": {},
   "outputs": [
    {
     "ename": "TypeError",
     "evalue": "Start and end cannot both be tz-aware with different timezones",
     "output_type": "error",
     "traceback": [
      "\u001b[1;31m---------------------------------------------------------------------------\u001b[0m",
      "\u001b[1;31mAssertionError\u001b[0m                            Traceback (most recent call last)",
      "File \u001b[1;32mc:\\Users\\steph\\anaconda3\\envs\\skypew\\lib\\site-packages\\pandas\\core\\arrays\\datetimes.py:2422\u001b[0m, in \u001b[0;36m_infer_tz_from_endpoints\u001b[1;34m(start, end, tz)\u001b[0m\n\u001b[0;32m   <a href='file:///c%3A/Users/steph/anaconda3/envs/skypew/lib/site-packages/pandas/core/arrays/datetimes.py?line=2420'>2421</a>\u001b[0m \u001b[39mtry\u001b[39;00m:\n\u001b[1;32m-> <a href='file:///c%3A/Users/steph/anaconda3/envs/skypew/lib/site-packages/pandas/core/arrays/datetimes.py?line=2421'>2422</a>\u001b[0m     inferred_tz \u001b[39m=\u001b[39m timezones\u001b[39m.\u001b[39;49minfer_tzinfo(start, end)\n\u001b[0;32m   <a href='file:///c%3A/Users/steph/anaconda3/envs/skypew/lib/site-packages/pandas/core/arrays/datetimes.py?line=2422'>2423</a>\u001b[0m \u001b[39mexcept\u001b[39;00m \u001b[39mAssertionError\u001b[39;00m \u001b[39mas\u001b[39;00m err:\n\u001b[0;32m   <a href='file:///c%3A/Users/steph/anaconda3/envs/skypew/lib/site-packages/pandas/core/arrays/datetimes.py?line=2423'>2424</a>\u001b[0m     \u001b[39m# infer_tzinfo raises AssertionError if passed mismatched timezones\u001b[39;00m\n",
      "File \u001b[1;32mc:\\Users\\steph\\anaconda3\\envs\\skypew\\lib\\site-packages\\pandas\\_libs\\tslibs\\timezones.pyx:328\u001b[0m, in \u001b[0;36mpandas._libs.tslibs.timezones.infer_tzinfo\u001b[1;34m()\u001b[0m\n",
      "\u001b[1;31mAssertionError\u001b[0m: Inputs must both have the same timezone, pytz.FixedOffset(60) != pytz.FixedOffset(120)",
      "\nThe above exception was the direct cause of the following exception:\n",
      "\u001b[1;31mTypeError\u001b[0m                                 Traceback (most recent call last)",
      "\u001b[1;32mc:\\Users\\steph\\Documents\\Programmieren\\Python\\SkypeWaddle\\temp.ipynb Cell 6'\u001b[0m in \u001b[0;36m<cell line: 1>\u001b[1;34m()\u001b[0m\n\u001b[1;32m----> <a href='vscode-notebook-cell:/c%3A/Users/steph/Documents/Programmieren/Python/SkypeWaddle/temp.ipynb#ch0000004?line=0'>1</a>\u001b[0m a \u001b[39m=\u001b[39m pd\u001b[39m.\u001b[39;49mdate_range(end\u001b[39m=\u001b[39;49m\u001b[39mstr\u001b[39;49m(df[\u001b[39m'\u001b[39;49m\u001b[39mStart Time\u001b[39;49m\u001b[39m'\u001b[39;49m]\u001b[39m.\u001b[39;49miloc[\u001b[39m-\u001b[39;49m\u001b[39m1\u001b[39;49m]),start\u001b[39m=\u001b[39;49m\u001b[39mstr\u001b[39;49m(df[\u001b[39m'\u001b[39;49m\u001b[39mStart Time\u001b[39;49m\u001b[39m'\u001b[39;49m]\u001b[39m.\u001b[39;49miloc[\u001b[39m0\u001b[39;49m]))\n\u001b[0;32m      <a href='vscode-notebook-cell:/c%3A/Users/steph/Documents/Programmieren/Python/SkypeWaddle/temp.ipynb#ch0000004?line=1'>2</a>\u001b[0m all_days \u001b[39m=\u001b[39m pd\u001b[39m.\u001b[39mDataFrame({\n\u001b[0;32m      <a href='vscode-notebook-cell:/c%3A/Users/steph/Documents/Programmieren/Python/SkypeWaddle/temp.ipynb#ch0000004?line=2'>3</a>\u001b[0m     \u001b[39m'\u001b[39m\u001b[39mdate\u001b[39m\u001b[39m'\u001b[39m: a,\n\u001b[0;32m      <a href='vscode-notebook-cell:/c%3A/Users/steph/Documents/Programmieren/Python/SkypeWaddle/temp.ipynb#ch0000004?line=3'>4</a>\u001b[0m     \u001b[39m'\u001b[39m\u001b[39mcall\u001b[39m\u001b[39m'\u001b[39m: np\u001b[39m.\u001b[39mzeros(a\u001b[39m.\u001b[39mshape[\u001b[39m0\u001b[39m]),\n\u001b[0;32m      <a href='vscode-notebook-cell:/c%3A/Users/steph/Documents/Programmieren/Python/SkypeWaddle/temp.ipynb#ch0000004?line=4'>5</a>\u001b[0m     \u001b[39m'\u001b[39m\u001b[39mduration\u001b[39m\u001b[39m'\u001b[39m : np\u001b[39m.\u001b[39mzeros(a\u001b[39m.\u001b[39mshape[\u001b[39m0\u001b[39m])\n\u001b[0;32m      <a href='vscode-notebook-cell:/c%3A/Users/steph/Documents/Programmieren/Python/SkypeWaddle/temp.ipynb#ch0000004?line=5'>6</a>\u001b[0m }, columns\u001b[39m=\u001b[39m[\u001b[39m'\u001b[39m\u001b[39mdate\u001b[39m\u001b[39m'\u001b[39m, \u001b[39m'\u001b[39m\u001b[39mcall\u001b[39m\u001b[39m'\u001b[39m, \u001b[39m'\u001b[39m\u001b[39mduration\u001b[39m\u001b[39m'\u001b[39m])\u001b[39m.\u001b[39mset_index(\u001b[39m\"\u001b[39m\u001b[39mdate\u001b[39m\u001b[39m\"\u001b[39m)\n\u001b[0;32m      <a href='vscode-notebook-cell:/c%3A/Users/steph/Documents/Programmieren/Python/SkypeWaddle/temp.ipynb#ch0000004?line=7'>8</a>\u001b[0m \u001b[39mfor\u001b[39;00m index,row \u001b[39min\u001b[39;00m all_days\u001b[39m.\u001b[39miterrows():\n",
      "File \u001b[1;32mc:\\Users\\steph\\anaconda3\\envs\\skypew\\lib\\site-packages\\pandas\\core\\indexes\\datetimes.py:1097\u001b[0m, in \u001b[0;36mdate_range\u001b[1;34m(start, end, periods, freq, tz, normalize, name, closed, **kwargs)\u001b[0m\n\u001b[0;32m   <a href='file:///c%3A/Users/steph/anaconda3/envs/skypew/lib/site-packages/pandas/core/indexes/datetimes.py?line=1093'>1094</a>\u001b[0m \u001b[39mif\u001b[39;00m freq \u001b[39mis\u001b[39;00m \u001b[39mNone\u001b[39;00m \u001b[39mand\u001b[39;00m com\u001b[39m.\u001b[39many_none(periods, start, end):\n\u001b[0;32m   <a href='file:///c%3A/Users/steph/anaconda3/envs/skypew/lib/site-packages/pandas/core/indexes/datetimes.py?line=1094'>1095</a>\u001b[0m     freq \u001b[39m=\u001b[39m \u001b[39m\"\u001b[39m\u001b[39mD\u001b[39m\u001b[39m\"\u001b[39m\n\u001b[1;32m-> <a href='file:///c%3A/Users/steph/anaconda3/envs/skypew/lib/site-packages/pandas/core/indexes/datetimes.py?line=1096'>1097</a>\u001b[0m dtarr \u001b[39m=\u001b[39m DatetimeArray\u001b[39m.\u001b[39m_generate_range(\n\u001b[0;32m   <a href='file:///c%3A/Users/steph/anaconda3/envs/skypew/lib/site-packages/pandas/core/indexes/datetimes.py?line=1097'>1098</a>\u001b[0m     start\u001b[39m=\u001b[39mstart,\n\u001b[0;32m   <a href='file:///c%3A/Users/steph/anaconda3/envs/skypew/lib/site-packages/pandas/core/indexes/datetimes.py?line=1098'>1099</a>\u001b[0m     end\u001b[39m=\u001b[39mend,\n\u001b[0;32m   <a href='file:///c%3A/Users/steph/anaconda3/envs/skypew/lib/site-packages/pandas/core/indexes/datetimes.py?line=1099'>1100</a>\u001b[0m     periods\u001b[39m=\u001b[39mperiods,\n\u001b[0;32m   <a href='file:///c%3A/Users/steph/anaconda3/envs/skypew/lib/site-packages/pandas/core/indexes/datetimes.py?line=1100'>1101</a>\u001b[0m     freq\u001b[39m=\u001b[39mfreq,\n\u001b[0;32m   <a href='file:///c%3A/Users/steph/anaconda3/envs/skypew/lib/site-packages/pandas/core/indexes/datetimes.py?line=1101'>1102</a>\u001b[0m     tz\u001b[39m=\u001b[39mtz,\n\u001b[0;32m   <a href='file:///c%3A/Users/steph/anaconda3/envs/skypew/lib/site-packages/pandas/core/indexes/datetimes.py?line=1102'>1103</a>\u001b[0m     normalize\u001b[39m=\u001b[39mnormalize,\n\u001b[0;32m   <a href='file:///c%3A/Users/steph/anaconda3/envs/skypew/lib/site-packages/pandas/core/indexes/datetimes.py?line=1103'>1104</a>\u001b[0m     closed\u001b[39m=\u001b[39mclosed,\n\u001b[0;32m   <a href='file:///c%3A/Users/steph/anaconda3/envs/skypew/lib/site-packages/pandas/core/indexes/datetimes.py?line=1104'>1105</a>\u001b[0m     \u001b[39m*\u001b[39m\u001b[39m*\u001b[39mkwargs,\n\u001b[0;32m   <a href='file:///c%3A/Users/steph/anaconda3/envs/skypew/lib/site-packages/pandas/core/indexes/datetimes.py?line=1105'>1106</a>\u001b[0m )\n\u001b[0;32m   <a href='file:///c%3A/Users/steph/anaconda3/envs/skypew/lib/site-packages/pandas/core/indexes/datetimes.py?line=1106'>1107</a>\u001b[0m \u001b[39mreturn\u001b[39;00m DatetimeIndex\u001b[39m.\u001b[39m_simple_new(dtarr, name\u001b[39m=\u001b[39mname)\n",
      "File \u001b[1;32mc:\\Users\\steph\\anaconda3\\envs\\skypew\\lib\\site-packages\\pandas\\core\\arrays\\datetimes.py:419\u001b[0m, in \u001b[0;36mDatetimeArray._generate_range\u001b[1;34m(cls, start, end, periods, freq, tz, normalize, ambiguous, nonexistent, closed)\u001b[0m\n\u001b[0;32m    <a href='file:///c%3A/Users/steph/anaconda3/envs/skypew/lib/site-packages/pandas/core/arrays/datetimes.py?line=416'>417</a>\u001b[0m left_closed, right_closed \u001b[39m=\u001b[39m dtl\u001b[39m.\u001b[39mvalidate_endpoints(closed)\n\u001b[0;32m    <a href='file:///c%3A/Users/steph/anaconda3/envs/skypew/lib/site-packages/pandas/core/arrays/datetimes.py?line=417'>418</a>\u001b[0m start, end, _normalized \u001b[39m=\u001b[39m _maybe_normalize_endpoints(start, end, normalize)\n\u001b[1;32m--> <a href='file:///c%3A/Users/steph/anaconda3/envs/skypew/lib/site-packages/pandas/core/arrays/datetimes.py?line=418'>419</a>\u001b[0m tz \u001b[39m=\u001b[39m _infer_tz_from_endpoints(start, end, tz)\n\u001b[0;32m    <a href='file:///c%3A/Users/steph/anaconda3/envs/skypew/lib/site-packages/pandas/core/arrays/datetimes.py?line=420'>421</a>\u001b[0m \u001b[39mif\u001b[39;00m tz \u001b[39mis\u001b[39;00m \u001b[39mnot\u001b[39;00m \u001b[39mNone\u001b[39;00m:\n\u001b[0;32m    <a href='file:///c%3A/Users/steph/anaconda3/envs/skypew/lib/site-packages/pandas/core/arrays/datetimes.py?line=421'>422</a>\u001b[0m     \u001b[39m# Localize the start and end arguments\u001b[39;00m\n\u001b[0;32m    <a href='file:///c%3A/Users/steph/anaconda3/envs/skypew/lib/site-packages/pandas/core/arrays/datetimes.py?line=422'>423</a>\u001b[0m     start_tz \u001b[39m=\u001b[39m \u001b[39mNone\u001b[39;00m \u001b[39mif\u001b[39;00m start \u001b[39mis\u001b[39;00m \u001b[39mNone\u001b[39;00m \u001b[39melse\u001b[39;00m start\u001b[39m.\u001b[39mtz\n",
      "File \u001b[1;32mc:\\Users\\steph\\anaconda3\\envs\\skypew\\lib\\site-packages\\pandas\\core\\arrays\\datetimes.py:2425\u001b[0m, in \u001b[0;36m_infer_tz_from_endpoints\u001b[1;34m(start, end, tz)\u001b[0m\n\u001b[0;32m   <a href='file:///c%3A/Users/steph/anaconda3/envs/skypew/lib/site-packages/pandas/core/arrays/datetimes.py?line=2421'>2422</a>\u001b[0m     inferred_tz \u001b[39m=\u001b[39m timezones\u001b[39m.\u001b[39minfer_tzinfo(start, end)\n\u001b[0;32m   <a href='file:///c%3A/Users/steph/anaconda3/envs/skypew/lib/site-packages/pandas/core/arrays/datetimes.py?line=2422'>2423</a>\u001b[0m \u001b[39mexcept\u001b[39;00m \u001b[39mAssertionError\u001b[39;00m \u001b[39mas\u001b[39;00m err:\n\u001b[0;32m   <a href='file:///c%3A/Users/steph/anaconda3/envs/skypew/lib/site-packages/pandas/core/arrays/datetimes.py?line=2423'>2424</a>\u001b[0m     \u001b[39m# infer_tzinfo raises AssertionError if passed mismatched timezones\u001b[39;00m\n\u001b[1;32m-> <a href='file:///c%3A/Users/steph/anaconda3/envs/skypew/lib/site-packages/pandas/core/arrays/datetimes.py?line=2424'>2425</a>\u001b[0m     \u001b[39mraise\u001b[39;00m \u001b[39mTypeError\u001b[39;00m(\n\u001b[0;32m   <a href='file:///c%3A/Users/steph/anaconda3/envs/skypew/lib/site-packages/pandas/core/arrays/datetimes.py?line=2425'>2426</a>\u001b[0m         \u001b[39m\"\u001b[39m\u001b[39mStart and end cannot both be tz-aware with different timezones\u001b[39m\u001b[39m\"\u001b[39m\n\u001b[0;32m   <a href='file:///c%3A/Users/steph/anaconda3/envs/skypew/lib/site-packages/pandas/core/arrays/datetimes.py?line=2426'>2427</a>\u001b[0m     ) \u001b[39mfrom\u001b[39;00m \u001b[39merr\u001b[39;00m\n\u001b[0;32m   <a href='file:///c%3A/Users/steph/anaconda3/envs/skypew/lib/site-packages/pandas/core/arrays/datetimes.py?line=2428'>2429</a>\u001b[0m inferred_tz \u001b[39m=\u001b[39m timezones\u001b[39m.\u001b[39mmaybe_get_tz(inferred_tz)\n\u001b[0;32m   <a href='file:///c%3A/Users/steph/anaconda3/envs/skypew/lib/site-packages/pandas/core/arrays/datetimes.py?line=2429'>2430</a>\u001b[0m tz \u001b[39m=\u001b[39m timezones\u001b[39m.\u001b[39mmaybe_get_tz(tz)\n",
      "\u001b[1;31mTypeError\u001b[0m: Start and end cannot both be tz-aware with different timezones"
     ]
    }
   ],
   "source": [
    "a = pd.date_range(end=str(df['Start Time'].iloc[-1]),start=str(df['Start Time'].iloc[0]))\n",
    "all_days = pd.DataFrame({\n",
    "    'date': a,\n",
    "    'call': np.zeros(a.shape[0]),\n",
    "    'duration' : np.zeros(a.shape[0])\n",
    "}, columns=['date', 'call', 'duration']).set_index(\"date\")\n",
    "\n",
    "for index,row in all_days.iterrows():\n",
    "    if index.date() in df['Start Time']:\n",
    "        all_days.at[index,'call']+=1\n",
    "\n",
    "for date in a:\n",
    "    if date.date() in df['Start Time']:\n",
    "        d = dt.datetime.combine(date, dt.datetime.min.time())\n",
    "        all_days.at[date,'duration']+=df['Duration'][df['Start Time'].index(d)]\n",
    "\n",
    "\n",
    "\n",
    "# for date in a:\n",
    "#     d=dt.datetime.combine(date, dt.datetime.min.time())\n",
    "#     all_days.at[d,'duration']+=durations[dates.index(d.date())]\n",
    "# fig_bin  = px.bar(all_days, x=all_days.index, y=\"call\")\n",
    "\n",
    "#fig_lin = px.line(all_days, x=all_days.index, y=\"duration\")\n",
    "fig_lin = go.Figure()\n",
    "fig_lin.add_trace(go.Scatter(x=all_days.index, y=all_days['duration']/60/60,\n",
    "                        mode='markers',\n",
    "                        name='markers'))\n",
    "fig_lin.set_xlabel('Date')\n"
   ]
  }
 ],
 "metadata": {
  "interpreter": {
   "hash": "1058134d9b68fef72f1c3ed8a3f238cb21ca5f4d0ed716cbd0f9292dbfc95920"
  },
  "kernelspec": {
   "display_name": "Python 3.9.7 ('skypew')",
   "language": "python",
   "name": "python3"
  },
  "language_info": {
   "codemirror_mode": {
    "name": "ipython",
    "version": 3
   },
   "file_extension": ".py",
   "mimetype": "text/x-python",
   "name": "python",
   "nbconvert_exporter": "python",
   "pygments_lexer": "ipython3",
   "version": "3.9.12"
  },
  "orig_nbformat": 4
 },
 "nbformat": 4,
 "nbformat_minor": 2
}
